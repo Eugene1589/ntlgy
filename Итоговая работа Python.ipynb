{
 "cells": [
  {
   "cell_type": "raw",
   "id": "c0085f1b-e4e1-4482-a966-56175dc18a1a",
   "metadata": {},
   "source": [
    "Задание\r\n",
    "Дан файл HR.csv с данными по опросу уровня удовлетворенности сотрудниками работой.\r\n",
    "Файл доступен тут -\r\n",
    "https://drive.google.com/file/d/1INgo03nal-vwFJe7Lec5vOUtOwfJdUr1/view?usp=sharing\r\n",
    "Признаки:\r\n",
    "1. satisfaction_level - Уровень удовлетворенности работой\r\n",
    "2. Last_evaluation - Время с момента последней оценки в годах\r\n",
    "3. number_projects - Количество проектов, выполненных за время работы\r\n",
    "4. average_monthly_hours - Среднее количество часов на рабочем месте в месяц\r\n",
    "5. time_spend_company - Стаж работы в компании в годах\r\n",
    "6. work_accident - Происходили ли несчастные случаи на рабочем месте с сотрудником\r\n",
    "7. left - уволился ли сотрудник\r\n",
    "8. promotion_last_5years - повышался ли сотрудник за последние пять лет\r\n",
    "9. department - отдел в котором работает сотрудник\r\n",
    "10. salary - относительный уровень зарплаты\r"
   ]
  },
  {
   "cell_type": "markdown",
   "id": "01fe59d0-9b11-4c59-b0b4-92b7f470b8c0",
   "metadata": {},
   "source": [
    "## 1. Загрузим данные из файла HR.csv"
   ]
  },
  {
   "cell_type": "code",
   "execution_count": 73,
   "id": "b733fd83-97e3-40ae-987d-4af0c373c37c",
   "metadata": {},
   "outputs": [],
   "source": [
    "import numpy as np\n",
    "import pandas as pd"
   ]
  },
  {
   "cell_type": "code",
   "execution_count": 74,
   "id": "6c1eb0bb-f19a-4ce6-b367-8a2ab610a687",
   "metadata": {},
   "outputs": [
    {
     "data": {
      "text/html": [
       "<div>\n",
       "<style scoped>\n",
       "    .dataframe tbody tr th:only-of-type {\n",
       "        vertical-align: middle;\n",
       "    }\n",
       "\n",
       "    .dataframe tbody tr th {\n",
       "        vertical-align: top;\n",
       "    }\n",
       "\n",
       "    .dataframe thead th {\n",
       "        text-align: right;\n",
       "    }\n",
       "</style>\n",
       "<table border=\"1\" class=\"dataframe\">\n",
       "  <thead>\n",
       "    <tr style=\"text-align: right;\">\n",
       "      <th></th>\n",
       "      <th>satisfaction_level</th>\n",
       "      <th>last_evaluation</th>\n",
       "      <th>number_project</th>\n",
       "      <th>average_montly_hours</th>\n",
       "      <th>time_spend_company</th>\n",
       "      <th>Work_accident</th>\n",
       "      <th>left</th>\n",
       "      <th>promotion_last_5years</th>\n",
       "      <th>department</th>\n",
       "      <th>salary</th>\n",
       "    </tr>\n",
       "  </thead>\n",
       "  <tbody>\n",
       "    <tr>\n",
       "      <th>0</th>\n",
       "      <td>0.38</td>\n",
       "      <td>0.53</td>\n",
       "      <td>2</td>\n",
       "      <td>157</td>\n",
       "      <td>3</td>\n",
       "      <td>0</td>\n",
       "      <td>1</td>\n",
       "      <td>0</td>\n",
       "      <td>sales</td>\n",
       "      <td>low</td>\n",
       "    </tr>\n",
       "    <tr>\n",
       "      <th>1</th>\n",
       "      <td>0.80</td>\n",
       "      <td>0.86</td>\n",
       "      <td>5</td>\n",
       "      <td>262</td>\n",
       "      <td>6</td>\n",
       "      <td>0</td>\n",
       "      <td>1</td>\n",
       "      <td>0</td>\n",
       "      <td>sales</td>\n",
       "      <td>medium</td>\n",
       "    </tr>\n",
       "    <tr>\n",
       "      <th>2</th>\n",
       "      <td>0.11</td>\n",
       "      <td>0.88</td>\n",
       "      <td>7</td>\n",
       "      <td>272</td>\n",
       "      <td>4</td>\n",
       "      <td>0</td>\n",
       "      <td>1</td>\n",
       "      <td>0</td>\n",
       "      <td>sales</td>\n",
       "      <td>medium</td>\n",
       "    </tr>\n",
       "    <tr>\n",
       "      <th>3</th>\n",
       "      <td>0.72</td>\n",
       "      <td>0.87</td>\n",
       "      <td>5</td>\n",
       "      <td>223</td>\n",
       "      <td>5</td>\n",
       "      <td>0</td>\n",
       "      <td>1</td>\n",
       "      <td>0</td>\n",
       "      <td>sales</td>\n",
       "      <td>low</td>\n",
       "    </tr>\n",
       "    <tr>\n",
       "      <th>4</th>\n",
       "      <td>0.37</td>\n",
       "      <td>0.52</td>\n",
       "      <td>2</td>\n",
       "      <td>159</td>\n",
       "      <td>3</td>\n",
       "      <td>0</td>\n",
       "      <td>1</td>\n",
       "      <td>0</td>\n",
       "      <td>sales</td>\n",
       "      <td>low</td>\n",
       "    </tr>\n",
       "    <tr>\n",
       "      <th>...</th>\n",
       "      <td>...</td>\n",
       "      <td>...</td>\n",
       "      <td>...</td>\n",
       "      <td>...</td>\n",
       "      <td>...</td>\n",
       "      <td>...</td>\n",
       "      <td>...</td>\n",
       "      <td>...</td>\n",
       "      <td>...</td>\n",
       "      <td>...</td>\n",
       "    </tr>\n",
       "    <tr>\n",
       "      <th>14994</th>\n",
       "      <td>0.40</td>\n",
       "      <td>0.57</td>\n",
       "      <td>2</td>\n",
       "      <td>151</td>\n",
       "      <td>3</td>\n",
       "      <td>0</td>\n",
       "      <td>1</td>\n",
       "      <td>0</td>\n",
       "      <td>support</td>\n",
       "      <td>low</td>\n",
       "    </tr>\n",
       "    <tr>\n",
       "      <th>14995</th>\n",
       "      <td>0.37</td>\n",
       "      <td>0.48</td>\n",
       "      <td>2</td>\n",
       "      <td>160</td>\n",
       "      <td>3</td>\n",
       "      <td>0</td>\n",
       "      <td>1</td>\n",
       "      <td>0</td>\n",
       "      <td>support</td>\n",
       "      <td>low</td>\n",
       "    </tr>\n",
       "    <tr>\n",
       "      <th>14996</th>\n",
       "      <td>0.37</td>\n",
       "      <td>0.53</td>\n",
       "      <td>2</td>\n",
       "      <td>143</td>\n",
       "      <td>3</td>\n",
       "      <td>0</td>\n",
       "      <td>1</td>\n",
       "      <td>0</td>\n",
       "      <td>support</td>\n",
       "      <td>low</td>\n",
       "    </tr>\n",
       "    <tr>\n",
       "      <th>14997</th>\n",
       "      <td>0.11</td>\n",
       "      <td>0.96</td>\n",
       "      <td>6</td>\n",
       "      <td>280</td>\n",
       "      <td>4</td>\n",
       "      <td>0</td>\n",
       "      <td>1</td>\n",
       "      <td>0</td>\n",
       "      <td>support</td>\n",
       "      <td>low</td>\n",
       "    </tr>\n",
       "    <tr>\n",
       "      <th>14998</th>\n",
       "      <td>0.37</td>\n",
       "      <td>0.52</td>\n",
       "      <td>2</td>\n",
       "      <td>158</td>\n",
       "      <td>3</td>\n",
       "      <td>0</td>\n",
       "      <td>1</td>\n",
       "      <td>0</td>\n",
       "      <td>support</td>\n",
       "      <td>low</td>\n",
       "    </tr>\n",
       "  </tbody>\n",
       "</table>\n",
       "<p>14999 rows × 10 columns</p>\n",
       "</div>"
      ],
      "text/plain": [
       "       satisfaction_level  last_evaluation  number_project  \\\n",
       "0                    0.38             0.53               2   \n",
       "1                    0.80             0.86               5   \n",
       "2                    0.11             0.88               7   \n",
       "3                    0.72             0.87               5   \n",
       "4                    0.37             0.52               2   \n",
       "...                   ...              ...             ...   \n",
       "14994                0.40             0.57               2   \n",
       "14995                0.37             0.48               2   \n",
       "14996                0.37             0.53               2   \n",
       "14997                0.11             0.96               6   \n",
       "14998                0.37             0.52               2   \n",
       "\n",
       "       average_montly_hours  time_spend_company  Work_accident  left  \\\n",
       "0                       157                   3              0     1   \n",
       "1                       262                   6              0     1   \n",
       "2                       272                   4              0     1   \n",
       "3                       223                   5              0     1   \n",
       "4                       159                   3              0     1   \n",
       "...                     ...                 ...            ...   ...   \n",
       "14994                   151                   3              0     1   \n",
       "14995                   160                   3              0     1   \n",
       "14996                   143                   3              0     1   \n",
       "14997                   280                   4              0     1   \n",
       "14998                   158                   3              0     1   \n",
       "\n",
       "       promotion_last_5years department  salary  \n",
       "0                          0      sales     low  \n",
       "1                          0      sales  medium  \n",
       "2                          0      sales  medium  \n",
       "3                          0      sales     low  \n",
       "4                          0      sales     low  \n",
       "...                      ...        ...     ...  \n",
       "14994                      0    support     low  \n",
       "14995                      0    support     low  \n",
       "14996                      0    support     low  \n",
       "14997                      0    support     low  \n",
       "14998                      0    support     low  \n",
       "\n",
       "[14999 rows x 10 columns]"
      ]
     },
     "execution_count": 74,
     "metadata": {},
     "output_type": "execute_result"
    }
   ],
   "source": [
    "HR_data = pd.read_csv('https://drive.google.com/uc?id=1INgo03nal-vwFJe7Lec5vOUtOwfJdUr1')\n",
    "HR_data"
   ]
  },
  {
   "cell_type": "markdown",
   "id": "4df01009-a049-4a81-ac4b-50a1162e5f3b",
   "metadata": {},
   "source": [
    "#### Проанализируем,насколько качественные данные в таблице"
   ]
  },
  {
   "cell_type": "code",
   "execution_count": 6,
   "id": "52995887-cc9d-4ffe-a3d5-33632da72563",
   "metadata": {},
   "outputs": [
    {
     "name": "stdout",
     "output_type": "stream",
     "text": [
      "<class 'pandas.core.frame.DataFrame'>\n",
      "RangeIndex: 14999 entries, 0 to 14998\n",
      "Data columns (total 10 columns):\n",
      " #   Column                 Non-Null Count  Dtype  \n",
      "---  ------                 --------------  -----  \n",
      " 0   satisfaction_level     14999 non-null  float64\n",
      " 1   last_evaluation        14999 non-null  float64\n",
      " 2   number_project         14999 non-null  int64  \n",
      " 3   average_montly_hours   14999 non-null  int64  \n",
      " 4   time_spend_company     14999 non-null  int64  \n",
      " 5   Work_accident          14999 non-null  int64  \n",
      " 6   left                   14999 non-null  int64  \n",
      " 7   promotion_last_5years  14999 non-null  int64  \n",
      " 8   department             14999 non-null  object \n",
      " 9   salary                 14999 non-null  object \n",
      "dtypes: float64(2), int64(6), object(2)\n",
      "memory usage: 1.1+ MB\n"
     ]
    }
   ],
   "source": [
    "# Для начала проверим, какие типы данных в нашей таблице\n",
    "HR_data.info()"
   ]
  },
  {
   "cell_type": "markdown",
   "id": "2b18b280-a99f-4cac-81fb-6c01d6ecfa83",
   "metadata": {},
   "source": [
    "Все данные во всех столбцах имеют верный тип данных, в таблице нет пропусков. Далее посчитаем, сколько дубликатов в нашей таблице\n"
   ]
  },
  {
   "cell_type": "code",
   "execution_count": 7,
   "id": "acfb9d1b-82c4-486e-943b-0fd6470f19b8",
   "metadata": {},
   "outputs": [
    {
     "data": {
      "text/plain": [
       "3008"
      ]
     },
     "execution_count": 7,
     "metadata": {},
     "output_type": "execute_result"
    }
   ],
   "source": [
    "len(HR_data)- len(HR_data.drop_duplicates())"
   ]
  },
  {
   "cell_type": "markdown",
   "id": "73ca5c4e-b3e7-42de-8d64-e265302742e9",
   "metadata": {},
   "source": [
    "Т.к. набор данных для каждого отдельного сотрудника уникален, то можем предположить, что дубликаты - это ошибка в наборе данных, поэтому избавимся от них"
   ]
  },
  {
   "cell_type": "markdown",
   "id": "9d9d2e8f-9308-48ae-b1b3-8f2c8fe807b8",
   "metadata": {},
   "source": [
    "# 2.Рассчитайте основные статистики для переменных (среднее,медиана,мода,мин/макс,сред.отклонение)."
   ]
  },
  {
   "cell_type": "code",
   "execution_count": 75,
   "id": "742f6c41-fed7-4e53-a13c-dab8701aeff1",
   "metadata": {},
   "outputs": [],
   "source": [
    "HR_data_1 = HR_data.drop_duplicates(keep='last').reset_index(drop=True)"
   ]
  },
  {
   "cell_type": "code",
   "execution_count": 9,
   "id": "780fae46-9693-4db2-8f67-8c8d86567980",
   "metadata": {},
   "outputs": [
    {
     "data": {
      "text/html": [
       "<div>\n",
       "<style scoped>\n",
       "    .dataframe tbody tr th:only-of-type {\n",
       "        vertical-align: middle;\n",
       "    }\n",
       "\n",
       "    .dataframe tbody tr th {\n",
       "        vertical-align: top;\n",
       "    }\n",
       "\n",
       "    .dataframe thead th {\n",
       "        text-align: right;\n",
       "    }\n",
       "</style>\n",
       "<table border=\"1\" class=\"dataframe\">\n",
       "  <thead>\n",
       "    <tr style=\"text-align: right;\">\n",
       "      <th></th>\n",
       "      <th>satisfaction_level</th>\n",
       "      <th>last_evaluation</th>\n",
       "      <th>number_project</th>\n",
       "      <th>average_montly_hours</th>\n",
       "      <th>time_spend_company</th>\n",
       "      <th>Work_accident</th>\n",
       "      <th>left</th>\n",
       "      <th>promotion_last_5years</th>\n",
       "      <th>department</th>\n",
       "      <th>salary</th>\n",
       "    </tr>\n",
       "  </thead>\n",
       "  <tbody>\n",
       "    <tr>\n",
       "      <th>0</th>\n",
       "      <td>0.36</td>\n",
       "      <td>0.46</td>\n",
       "      <td>2</td>\n",
       "      <td>132</td>\n",
       "      <td>3</td>\n",
       "      <td>0</td>\n",
       "      <td>1</td>\n",
       "      <td>0</td>\n",
       "      <td>sales</td>\n",
       "      <td>low</td>\n",
       "    </tr>\n",
       "    <tr>\n",
       "      <th>1</th>\n",
       "      <td>0.44</td>\n",
       "      <td>0.57</td>\n",
       "      <td>2</td>\n",
       "      <td>131</td>\n",
       "      <td>3</td>\n",
       "      <td>0</td>\n",
       "      <td>1</td>\n",
       "      <td>0</td>\n",
       "      <td>sales</td>\n",
       "      <td>low</td>\n",
       "    </tr>\n",
       "    <tr>\n",
       "      <th>2</th>\n",
       "      <td>0.85</td>\n",
       "      <td>0.99</td>\n",
       "      <td>5</td>\n",
       "      <td>248</td>\n",
       "      <td>5</td>\n",
       "      <td>0</td>\n",
       "      <td>1</td>\n",
       "      <td>0</td>\n",
       "      <td>sales</td>\n",
       "      <td>low</td>\n",
       "    </tr>\n",
       "    <tr>\n",
       "      <th>3</th>\n",
       "      <td>0.78</td>\n",
       "      <td>0.93</td>\n",
       "      <td>5</td>\n",
       "      <td>225</td>\n",
       "      <td>5</td>\n",
       "      <td>0</td>\n",
       "      <td>1</td>\n",
       "      <td>0</td>\n",
       "      <td>sales</td>\n",
       "      <td>low</td>\n",
       "    </tr>\n",
       "    <tr>\n",
       "      <th>4</th>\n",
       "      <td>0.39</td>\n",
       "      <td>0.46</td>\n",
       "      <td>2</td>\n",
       "      <td>156</td>\n",
       "      <td>3</td>\n",
       "      <td>0</td>\n",
       "      <td>1</td>\n",
       "      <td>0</td>\n",
       "      <td>sales</td>\n",
       "      <td>low</td>\n",
       "    </tr>\n",
       "  </tbody>\n",
       "</table>\n",
       "</div>"
      ],
      "text/plain": [
       "   satisfaction_level  last_evaluation  number_project  average_montly_hours  \\\n",
       "0                0.36             0.46               2                   132   \n",
       "1                0.44             0.57               2                   131   \n",
       "2                0.85             0.99               5                   248   \n",
       "3                0.78             0.93               5                   225   \n",
       "4                0.39             0.46               2                   156   \n",
       "\n",
       "   time_spend_company  Work_accident  left  promotion_last_5years department  \\\n",
       "0                   3              0     1                      0      sales   \n",
       "1                   3              0     1                      0      sales   \n",
       "2                   5              0     1                      0      sales   \n",
       "3                   5              0     1                      0      sales   \n",
       "4                   3              0     1                      0      sales   \n",
       "\n",
       "  salary  \n",
       "0    low  \n",
       "1    low  \n",
       "2    low  \n",
       "3    low  \n",
       "4    low  "
      ]
     },
     "execution_count": 9,
     "metadata": {},
     "output_type": "execute_result"
    }
   ],
   "source": [
    "HR_data_1.head()"
   ]
  },
  {
   "cell_type": "code",
   "execution_count": 78,
   "id": "049e00ad-7fc7-4b81-a97b-ec92e7ed4871",
   "metadata": {},
   "outputs": [
    {
     "data": {
      "text/html": [
       "<div>\n",
       "<style scoped>\n",
       "    .dataframe tbody tr th:only-of-type {\n",
       "        vertical-align: middle;\n",
       "    }\n",
       "\n",
       "    .dataframe tbody tr th {\n",
       "        vertical-align: top;\n",
       "    }\n",
       "\n",
       "    .dataframe thead th {\n",
       "        text-align: right;\n",
       "    }\n",
       "</style>\n",
       "<table border=\"1\" class=\"dataframe\">\n",
       "  <thead>\n",
       "    <tr style=\"text-align: right;\">\n",
       "      <th></th>\n",
       "      <th>satisfaction_level</th>\n",
       "      <th>last_evaluation</th>\n",
       "      <th>number_project</th>\n",
       "      <th>average_montly_hours</th>\n",
       "      <th>time_spend_company</th>\n",
       "    </tr>\n",
       "    <tr>\n",
       "      <th>Показатель</th>\n",
       "      <th></th>\n",
       "      <th></th>\n",
       "      <th></th>\n",
       "      <th></th>\n",
       "      <th></th>\n",
       "    </tr>\n",
       "  </thead>\n",
       "  <tbody>\n",
       "    <tr>\n",
       "      <th>Максимум</th>\n",
       "      <td>1.00</td>\n",
       "      <td>1.00</td>\n",
       "      <td>7.00</td>\n",
       "      <td>310.00</td>\n",
       "      <td>10.00</td>\n",
       "    </tr>\n",
       "    <tr>\n",
       "      <th>Минимум</th>\n",
       "      <td>0.09</td>\n",
       "      <td>0.36</td>\n",
       "      <td>2.00</td>\n",
       "      <td>96.00</td>\n",
       "      <td>2.00</td>\n",
       "    </tr>\n",
       "    <tr>\n",
       "      <th>Среднее</th>\n",
       "      <td>0.63</td>\n",
       "      <td>0.72</td>\n",
       "      <td>3.80</td>\n",
       "      <td>200.47</td>\n",
       "      <td>3.36</td>\n",
       "    </tr>\n",
       "    <tr>\n",
       "      <th>Мода</th>\n",
       "      <td>0.74</td>\n",
       "      <td>0.55</td>\n",
       "      <td>4.00</td>\n",
       "      <td>149.00</td>\n",
       "      <td>3.00</td>\n",
       "    </tr>\n",
       "    <tr>\n",
       "      <th>Медиана</th>\n",
       "      <td>0.66</td>\n",
       "      <td>0.72</td>\n",
       "      <td>4.00</td>\n",
       "      <td>200.00</td>\n",
       "      <td>3.00</td>\n",
       "    </tr>\n",
       "    <tr>\n",
       "      <th>СКО</th>\n",
       "      <td>0.24</td>\n",
       "      <td>0.17</td>\n",
       "      <td>1.16</td>\n",
       "      <td>48.73</td>\n",
       "      <td>1.33</td>\n",
       "    </tr>\n",
       "  </tbody>\n",
       "</table>\n",
       "</div>"
      ],
      "text/plain": [
       "            satisfaction_level  last_evaluation  number_project  \\\n",
       "Показатель                                                        \n",
       "Максимум                  1.00             1.00            7.00   \n",
       "Минимум                   0.09             0.36            2.00   \n",
       "Среднее                   0.63             0.72            3.80   \n",
       "Мода                      0.74             0.55            4.00   \n",
       "Медиана                   0.66             0.72            4.00   \n",
       "СКО                       0.24             0.17            1.16   \n",
       "\n",
       "            average_montly_hours  time_spend_company  \n",
       "Показатель                                            \n",
       "Максимум                  310.00               10.00  \n",
       "Минимум                    96.00                2.00  \n",
       "Среднее                   200.47                3.36  \n",
       "Мода                      149.00                3.00  \n",
       "Медиана                   200.00                3.00  \n",
       "СКО                        48.73                1.33  "
      ]
     },
     "execution_count": 78,
     "metadata": {},
     "output_type": "execute_result"
    }
   ],
   "source": [
    "HR_data_2 =HR_data_1[['satisfaction_level','last_evaluation','number_project','average_montly_hours','time_spend_company']]\n",
    "dfr = pd.DataFrame({\n",
    " 'Показатель':  ['Максимум', 'Минимум','Среднее', 'Мода','Медиана','СКО']})\n",
    "dfr=dfr.set_index('Показатель')\n",
    "\n",
    "\n",
    "#Расчет статистики для 5 количественных показателей\n",
    "max_ =HR_data_2.max()\n",
    "min_ = HR_data_2.min()\n",
    "mean_=HR_data_2.mean().round(2)\n",
    "pr_2_ = HR_data_2.quantile(0.5).round(2)\n",
    "std_ = HR_data_2.std().round(2)\n",
    "\n",
    "# расчитаем отдельно моду\n",
    "mode_1 = HR_data_2['satisfaction_level'].mode()[0].round(2)\n",
    "mode_2 = HR_data_2['last_evaluation'].mode()[0].round(2)\n",
    "mode_3 = HR_data_2['number_project'].mode()[0].round(2)\n",
    "mode_4 = HR_data_2['average_montly_hours'].mode()[0].round(2)\n",
    "mode_5 = HR_data_2['time_spend_company'].mode()[0].round(2)\n",
    "#соберем результаты в Df\n",
    "dfr.loc['Максимум',['satisfaction_level','last_evaluation','number_project','average_montly_hours','time_spend_company']]=max_\n",
    "dfr.loc['Минимум',['satisfaction_level','last_evaluation','number_project','average_montly_hours','time_spend_company']]=min_\n",
    "dfr.loc['Среднее',['satisfaction_level','last_evaluation','number_project','average_montly_hours','time_spend_company']]= mean_\n",
    "dfr.loc['Мода',['satisfaction_level','last_evaluation','number_project','average_montly_hours','time_spend_company']]= [mode_1,mode_2,mode_3,mode_4,mode_5]\n",
    "dfr.loc['Медиана',['satisfaction_level','last_evaluation','number_project','average_montly_hours','time_spend_company']]= pr_2_\n",
    "dfr.loc['СКО',['satisfaction_level','last_evaluation','number_project','average_montly_hours','time_spend_company']]=std_\n",
    "dfr\n",
    "\n"
   ]
  },
  {
   "cell_type": "markdown",
   "id": "67e12829-0617-4088-8718-83c3deb0d6b6",
   "metadata": {},
   "source": [
    "<span style=\"color:blue\">Вывод: количественные данные \"уровень удовлетворенности\", \"последняя аттестация\",№количество проектов\" и \"стаж\" - достаточно однородны, имеют малое СКО;   \n",
    "однако данные в столбце- \"среднее колчество часов\" очень разнятся, есть смысл проанализировать глубже причины таких различий\n",
    "</span>"
   ]
  },
  {
   "cell_type": "markdown",
   "id": "1db3315c-7b8a-4775-ba99-e19ddae26e54",
   "metadata": {},
   "source": [
    "# 3.Рассчитайте и визуализировать корреляционную матрицу для количественных переменных.Определите две самые скоррелированные и две наименеескоррелированные переменные."
   ]
  },
  {
   "cell_type": "code",
   "execution_count": 79,
   "id": "b23cfb87-65ea-45e1-b46b-51f9bb7bc8ef",
   "metadata": {},
   "outputs": [],
   "source": [
    "import matplotlib.pyplot as plt\n",
    "import seaborn as sns"
   ]
  },
  {
   "cell_type": "code",
   "execution_count": 80,
   "id": "3aa8e6dd-129e-40f4-af7a-ab0aa61ffc6c",
   "metadata": {},
   "outputs": [
    {
     "data": {
      "text/html": [
       "<div>\n",
       "<style scoped>\n",
       "    .dataframe tbody tr th:only-of-type {\n",
       "        vertical-align: middle;\n",
       "    }\n",
       "\n",
       "    .dataframe tbody tr th {\n",
       "        vertical-align: top;\n",
       "    }\n",
       "\n",
       "    .dataframe thead th {\n",
       "        text-align: right;\n",
       "    }\n",
       "</style>\n",
       "<table border=\"1\" class=\"dataframe\">\n",
       "  <thead>\n",
       "    <tr style=\"text-align: right;\">\n",
       "      <th></th>\n",
       "      <th>satisfaction_level</th>\n",
       "      <th>last_evaluation</th>\n",
       "      <th>number_project</th>\n",
       "      <th>average_montly_hours</th>\n",
       "      <th>time_spend_company</th>\n",
       "    </tr>\n",
       "  </thead>\n",
       "  <tbody>\n",
       "    <tr>\n",
       "      <th>satisfaction_level</th>\n",
       "      <td>1.000</td>\n",
       "      <td>0.095</td>\n",
       "      <td>-0.133</td>\n",
       "      <td>-0.006</td>\n",
       "      <td>-0.153</td>\n",
       "    </tr>\n",
       "    <tr>\n",
       "      <th>last_evaluation</th>\n",
       "      <td>0.095</td>\n",
       "      <td>1.000</td>\n",
       "      <td>0.270</td>\n",
       "      <td>0.265</td>\n",
       "      <td>0.097</td>\n",
       "    </tr>\n",
       "    <tr>\n",
       "      <th>number_project</th>\n",
       "      <td>-0.133</td>\n",
       "      <td>0.270</td>\n",
       "      <td>1.000</td>\n",
       "      <td>0.332</td>\n",
       "      <td>0.189</td>\n",
       "    </tr>\n",
       "    <tr>\n",
       "      <th>average_montly_hours</th>\n",
       "      <td>-0.006</td>\n",
       "      <td>0.265</td>\n",
       "      <td>0.332</td>\n",
       "      <td>1.000</td>\n",
       "      <td>0.103</td>\n",
       "    </tr>\n",
       "    <tr>\n",
       "      <th>time_spend_company</th>\n",
       "      <td>-0.153</td>\n",
       "      <td>0.097</td>\n",
       "      <td>0.189</td>\n",
       "      <td>0.103</td>\n",
       "      <td>1.000</td>\n",
       "    </tr>\n",
       "  </tbody>\n",
       "</table>\n",
       "</div>"
      ],
      "text/plain": [
       "                      satisfaction_level  last_evaluation  number_project  \\\n",
       "satisfaction_level                 1.000            0.095          -0.133   \n",
       "last_evaluation                    0.095            1.000           0.270   \n",
       "number_project                    -0.133            0.270           1.000   \n",
       "average_montly_hours              -0.006            0.265           0.332   \n",
       "time_spend_company                -0.153            0.097           0.189   \n",
       "\n",
       "                      average_montly_hours  time_spend_company  \n",
       "satisfaction_level                  -0.006              -0.153  \n",
       "last_evaluation                      0.265               0.097  \n",
       "number_project                       0.332               0.189  \n",
       "average_montly_hours                 1.000               0.103  \n",
       "time_spend_company                   0.103               1.000  "
      ]
     },
     "execution_count": 80,
     "metadata": {},
     "output_type": "execute_result"
    }
   ],
   "source": [
    "HR_data_2.corr().round(3)"
   ]
  },
  {
   "cell_type": "code",
   "execution_count": 21,
   "id": "ebe05f02-4901-4214-a33e-9743befab1bb",
   "metadata": {},
   "outputs": [
    {
     "data": {
      "text/plain": [
       "<Axes: >"
      ]
     },
     "execution_count": 21,
     "metadata": {},
     "output_type": "execute_result"
    },
    {
     "data": {
      "image/png": "[encoded data removed]",
      "text/plain": [
       "<Figure size 700x600 with 2 Axes>"
      ]
     },
     "metadata": {},
     "output_type": "display_data"
    }
   ],
   "source": [
    "sns.set(rc={'figure.figsize':(7, 6)})\n",
    "sns.heatmap(HR_data_2.corr().round(3), annot=True, cmap=sns.cubehelix_palette(as_cmap=True))"
   ]
  },
  {
   "cell_type": "markdown",
   "id": "20afa7d9-a929-408f-a5e4-a9035ca0e131",
   "metadata": {},
   "source": [
    "<span style=\"color:blue\">Вывод:  \n",
    "Наиболее скореллированные переменные: number_projects и average_montly_hours (0.332) (можно предположить, что более загруженные проектами спецы\n",
    "тратят больше рабочего времени в месяц)  \n",
    "Наименее скореллированные переменные: average_montly_hours и satisfaction_level (-0.006)\n",
    "(можно предположить, что количество рабочего времени не влияет на уровень удовлетворенности специалистов)</span>\n"
   ]
  },
  {
   "cell_type": "markdown",
   "id": "8ffd5a4d-32a2-41c2-bbf2-7702909cb1ad",
   "metadata": {},
   "source": [
    "# 4. Рассчитайте сколько сотрудников работает в каждом департаменте."
   ]
  },
  {
   "cell_type": "code",
   "execution_count": 81,
   "id": "e030cd0a-e818-40dc-baa5-3d08f43b0262",
   "metadata": {},
   "outputs": [
    {
     "data": {
      "text/html": [
       "<div>\n",
       "<style scoped>\n",
       "    .dataframe tbody tr th:only-of-type {\n",
       "        vertical-align: middle;\n",
       "    }\n",
       "\n",
       "    .dataframe tbody tr th {\n",
       "        vertical-align: top;\n",
       "    }\n",
       "\n",
       "    .dataframe thead th {\n",
       "        text-align: right;\n",
       "    }\n",
       "</style>\n",
       "<table border=\"1\" class=\"dataframe\">\n",
       "  <thead>\n",
       "    <tr style=\"text-align: right;\">\n",
       "      <th></th>\n",
       "      <th>Count</th>\n",
       "    </tr>\n",
       "    <tr>\n",
       "      <th>department</th>\n",
       "      <th></th>\n",
       "    </tr>\n",
       "  </thead>\n",
       "  <tbody>\n",
       "    <tr>\n",
       "      <th>sales</th>\n",
       "      <td>3239</td>\n",
       "    </tr>\n",
       "    <tr>\n",
       "      <th>technical</th>\n",
       "      <td>2244</td>\n",
       "    </tr>\n",
       "    <tr>\n",
       "      <th>support</th>\n",
       "      <td>1821</td>\n",
       "    </tr>\n",
       "    <tr>\n",
       "      <th>IT</th>\n",
       "      <td>976</td>\n",
       "    </tr>\n",
       "    <tr>\n",
       "      <th>RandD</th>\n",
       "      <td>694</td>\n",
       "    </tr>\n",
       "    <tr>\n",
       "      <th>product_mng</th>\n",
       "      <td>686</td>\n",
       "    </tr>\n",
       "    <tr>\n",
       "      <th>marketing</th>\n",
       "      <td>673</td>\n",
       "    </tr>\n",
       "    <tr>\n",
       "      <th>accounting</th>\n",
       "      <td>621</td>\n",
       "    </tr>\n",
       "    <tr>\n",
       "      <th>hr</th>\n",
       "      <td>601</td>\n",
       "    </tr>\n",
       "    <tr>\n",
       "      <th>management</th>\n",
       "      <td>436</td>\n",
       "    </tr>\n",
       "  </tbody>\n",
       "</table>\n",
       "</div>"
      ],
      "text/plain": [
       "             Count\n",
       "department        \n",
       "sales         3239\n",
       "technical     2244\n",
       "support       1821\n",
       "IT             976\n",
       "RandD          694\n",
       "product_mng    686\n",
       "marketing      673\n",
       "accounting     621\n",
       "hr             601\n",
       "management     436"
      ]
     },
     "execution_count": 81,
     "metadata": {},
     "output_type": "execute_result"
    }
   ],
   "source": [
    "Count_people =HR_data_1.groupby('department').count()\n",
    "Count_people.rename(columns={'satisfaction_level': 'Count'}, inplace=True)\n",
    "Count_people=Count_people[['Count']]\n",
    "Count_people =Count_people.sort_values(by='Count',ascending=False)\n",
    "\n",
    "Count_people"
   ]
  },
  {
   "cell_type": "code",
   "execution_count": 82,
   "id": "b6de1aff-be3c-4bdb-939f-6d4f45a0cdc5",
   "metadata": {},
   "outputs": [
    {
     "name": "stderr",
     "output_type": "stream",
     "text": [
      "C:\\Users\\user\\AppData\\Local\\Temp\\ipykernel_19408\\3409609695.py:5: DeprecationWarning: Conversion of an array with ndim > 0 to a scalar is deprecated, and will error in future. Ensure you extract a single element from your array before performing this operation. (Deprecated NumPy 1.25.)\n",
      "  plt.text(i, val, int(val), horizontalalignment='center', verticalalignment='bottom', fontdict={'size':12})\n"
     ]
    },
    {
     "data": {
      "image/png": "[encoded data removed]",
      "text/plain": [
       "<Figure size 640x480 with 1 Axes>"
      ]
     },
     "metadata": {},
     "output_type": "display_data"
    }
   ],
   "source": [
    "\n",
    "Count_people.plot(kind='bar', title='Распределение сотрудников по отделам',\n",
    "                             xlabel='Отделы',\n",
    "                             ylabel='Количество сотрудников')\n",
    "for i, val in enumerate(Count_people.values):\n",
    "    plt.text(i, val, int(val), horizontalalignment='center', verticalalignment='bottom', fontdict={'size':12})"
   ]
  },
  {
   "cell_type": "markdown",
   "id": "8e283d01-bff4-4586-83e6-536fc5502ebb",
   "metadata": {},
   "source": [
    "# 5 Показать распределение сотрудников по зарплатам.\n"
   ]
  },
  {
   "cell_type": "code",
   "execution_count": 13,
   "id": "46776211-b9b4-4f56-b59d-237362fec3ff",
   "metadata": {},
   "outputs": [
    {
     "data": {
      "text/plain": [
       "salary\n",
       "low       0.479\n",
       "medium    0.439\n",
       "high      0.083\n",
       "Name: proportion, dtype: float64"
      ]
     },
     "execution_count": 13,
     "metadata": {},
     "output_type": "execute_result"
    }
   ],
   "source": [
    "HR_data_1['salary'].value_counts(normalize=True).round(3)"
   ]
  },
  {
   "cell_type": "code",
   "execution_count": 14,
   "id": "29e043b6-5f37-4627-9884-6dcbdb0c30bd",
   "metadata": {},
   "outputs": [
    {
     "data": {
      "text/html": [
       "<div>\n",
       "<style scoped>\n",
       "    .dataframe tbody tr th:only-of-type {\n",
       "        vertical-align: middle;\n",
       "    }\n",
       "\n",
       "    .dataframe tbody tr th {\n",
       "        vertical-align: top;\n",
       "    }\n",
       "\n",
       "    .dataframe thead th {\n",
       "        text-align: right;\n",
       "    }\n",
       "</style>\n",
       "<table border=\"1\" class=\"dataframe\">\n",
       "  <thead>\n",
       "    <tr style=\"text-align: right;\">\n",
       "      <th></th>\n",
       "      <th>Count</th>\n",
       "    </tr>\n",
       "    <tr>\n",
       "      <th>salary</th>\n",
       "      <th></th>\n",
       "    </tr>\n",
       "  </thead>\n",
       "  <tbody>\n",
       "    <tr>\n",
       "      <th>low</th>\n",
       "      <td>5740</td>\n",
       "    </tr>\n",
       "    <tr>\n",
       "      <th>medium</th>\n",
       "      <td>5261</td>\n",
       "    </tr>\n",
       "    <tr>\n",
       "      <th>high</th>\n",
       "      <td>990</td>\n",
       "    </tr>\n",
       "  </tbody>\n",
       "</table>\n",
       "</div>"
      ],
      "text/plain": [
       "        Count\n",
       "salary       \n",
       "low      5740\n",
       "medium   5261\n",
       "high      990"
      ]
     },
     "execution_count": 14,
     "metadata": {},
     "output_type": "execute_result"
    }
   ],
   "source": [
    "Count_salary =HR_data_1.groupby('salary').count()\n",
    "Count_salary.rename(columns={'satisfaction_level': 'Count'}, inplace=True)\n",
    "Count_salary=Count_salary[['Count']]\n",
    "Count_salary =Count_salary.sort_values(by='Count',ascending=False)\n",
    "\n",
    "Count_salary"
   ]
  },
  {
   "cell_type": "markdown",
   "id": "321b88a6-da4b-4b35-ae12-6529d40d8697",
   "metadata": {},
   "source": [
    "# 6.Показать распределение сотрудников по зарплатам в каждом департаменте по отдельности"
   ]
  },
  {
   "cell_type": "code",
   "execution_count": 15,
   "id": "3f7720a8-d6c7-4fa8-99d5-c0a20c9606a5",
   "metadata": {},
   "outputs": [
    {
     "data": {
      "text/html": [
       "<div>\n",
       "<style scoped>\n",
       "    .dataframe tbody tr th:only-of-type {\n",
       "        vertical-align: middle;\n",
       "    }\n",
       "\n",
       "    .dataframe tbody tr th {\n",
       "        vertical-align: top;\n",
       "    }\n",
       "\n",
       "    .dataframe thead th {\n",
       "        text-align: right;\n",
       "    }\n",
       "</style>\n",
       "<table border=\"1\" class=\"dataframe\">\n",
       "  <thead>\n",
       "    <tr style=\"text-align: right;\">\n",
       "      <th>salary</th>\n",
       "      <th>high</th>\n",
       "      <th>low</th>\n",
       "      <th>medium</th>\n",
       "      <th>count</th>\n",
       "    </tr>\n",
       "    <tr>\n",
       "      <th>department</th>\n",
       "      <th></th>\n",
       "      <th></th>\n",
       "      <th></th>\n",
       "      <th></th>\n",
       "    </tr>\n",
       "  </thead>\n",
       "  <tbody>\n",
       "    <tr>\n",
       "      <th>sales</th>\n",
       "      <td>237</td>\n",
       "      <td>1553</td>\n",
       "      <td>1449</td>\n",
       "      <td>3239</td>\n",
       "    </tr>\n",
       "    <tr>\n",
       "      <th>technical</th>\n",
       "      <td>166</td>\n",
       "      <td>1138</td>\n",
       "      <td>940</td>\n",
       "      <td>2244</td>\n",
       "    </tr>\n",
       "    <tr>\n",
       "      <th>support</th>\n",
       "      <td>126</td>\n",
       "      <td>867</td>\n",
       "      <td>828</td>\n",
       "      <td>1821</td>\n",
       "    </tr>\n",
       "    <tr>\n",
       "      <th>IT</th>\n",
       "      <td>71</td>\n",
       "      <td>476</td>\n",
       "      <td>429</td>\n",
       "      <td>976</td>\n",
       "    </tr>\n",
       "    <tr>\n",
       "      <th>RandD</th>\n",
       "      <td>47</td>\n",
       "      <td>322</td>\n",
       "      <td>325</td>\n",
       "      <td>694</td>\n",
       "    </tr>\n",
       "    <tr>\n",
       "      <th>product_mng</th>\n",
       "      <td>52</td>\n",
       "      <td>343</td>\n",
       "      <td>291</td>\n",
       "      <td>686</td>\n",
       "    </tr>\n",
       "    <tr>\n",
       "      <th>marketing</th>\n",
       "      <td>62</td>\n",
       "      <td>310</td>\n",
       "      <td>301</td>\n",
       "      <td>673</td>\n",
       "    </tr>\n",
       "    <tr>\n",
       "      <th>accounting</th>\n",
       "      <td>63</td>\n",
       "      <td>296</td>\n",
       "      <td>262</td>\n",
       "      <td>621</td>\n",
       "    </tr>\n",
       "    <tr>\n",
       "      <th>hr</th>\n",
       "      <td>38</td>\n",
       "      <td>296</td>\n",
       "      <td>267</td>\n",
       "      <td>601</td>\n",
       "    </tr>\n",
       "    <tr>\n",
       "      <th>management</th>\n",
       "      <td>128</td>\n",
       "      <td>139</td>\n",
       "      <td>169</td>\n",
       "      <td>436</td>\n",
       "    </tr>\n",
       "  </tbody>\n",
       "</table>\n",
       "</div>"
      ],
      "text/plain": [
       "salary       high   low  medium  count\n",
       "department                            \n",
       "sales         237  1553    1449   3239\n",
       "technical     166  1138     940   2244\n",
       "support       126   867     828   1821\n",
       "IT             71   476     429    976\n",
       "RandD          47   322     325    694\n",
       "product_mng    52   343     291    686\n",
       "marketing      62   310     301    673\n",
       "accounting     63   296     262    621\n",
       "hr             38   296     267    601\n",
       "management    128   139     169    436"
      ]
     },
     "execution_count": 15,
     "metadata": {},
     "output_type": "execute_result"
    }
   ],
   "source": [
    "pivot = HR_data_1.pivot_table(index='department', columns='salary',aggfunc='size')\n",
    "pivot['count'] = pivot[['high','low','medium']].sum(axis=1)\n",
    "pivot=pivot.sort_values(by='count',ascending=False)\n",
    "pivot"
   ]
  },
  {
   "cell_type": "code",
   "execution_count": 16,
   "id": "fbdfed59-ad70-4aa4-8aca-259576d56bc0",
   "metadata": {},
   "outputs": [
    {
     "data": {
      "text/plain": [
       "<Axes: xlabel='department'>"
      ]
     },
     "execution_count": 16,
     "metadata": {},
     "output_type": "execute_result"
    },
    {
     "data": {
      "image/png": "[encoded data removed]",
      "text/plain": [
       "<Figure size 640x480 with 1 Axes>"
      ]
     },
     "metadata": {},
     "output_type": "display_data"
    }
   ],
   "source": [
    "pivot[['high','medium','low',]].plot(kind='bar', stacked= True , color=['green', 'red','grey'])"
   ]
  },
  {
   "cell_type": "markdown",
   "id": "79003737-c7a4-46ea-b288-ddc89f1d32a2",
   "metadata": {},
   "source": [
    "<span style=\"color:blue\">Вывод: в компании достаточно мало специалистов с высоким уровнем зп, все отделы имеют схожие пропорции распределения специалистов по уровню зп.</span>"
   ]
  },
  {
   "cell_type": "markdown",
   "id": "4b31b122-13c0-463d-8696-8466a8bfd154",
   "metadata": {},
   "source": [
    "# 7 Проверить гипотезу, что сотрудники с высоким окладомпроводят на работе больше времени, чем сотрудники с низким окладом\n"
   ]
  },
  {
   "cell_type": "markdown",
   "id": "6196e057-b062-425c-8054-e24aa89ba3d9",
   "metadata": {},
   "source": [
    "H0-средние выборок одинаковы (сотрудики с высоким окладом проводят на работе столько же времени, сколько и сотрудники с низким окладом)  \n",
    "H1-средние выборок различаются (сотрудники с разными окладами проводят на работе разное количество времени)"
   ]
  },
  {
   "cell_type": "code",
   "execution_count": 17,
   "id": "1e7a021e-8919-4ea2-868f-b432053c17ff",
   "metadata": {},
   "outputs": [],
   "source": [
    "from scipy import stats"
   ]
  },
  {
   "cell_type": "code",
   "execution_count": 18,
   "id": "73c096f8-86b2-45c1-b173-c54210034eb4",
   "metadata": {},
   "outputs": [],
   "source": [
    "low_salary = HR_data_1['average_montly_hours'][HR_data_1['salary'] == 'low']\n",
    "high_salary = HR_data_1['average_montly_hours'][HR_data_1['salary'] == 'high']"
   ]
  },
  {
   "cell_type": "code",
   "execution_count": 19,
   "id": "c86450b0-2a96-45f2-b09b-c890923770ea",
   "metadata": {},
   "outputs": [
    {
     "name": "stdout",
     "output_type": "stream",
     "text": [
      "200.4391986062718\n",
      "200.06767676767677\n"
     ]
    }
   ],
   "source": [
    "print(low_salary.mean())\n",
    "print(high_salary.mean())"
   ]
  },
  {
   "cell_type": "code",
   "execution_count": 83,
   "id": "0c154a1e-a8fa-4563-b078-8628d6e5eaba",
   "metadata": {},
   "outputs": [
    {
     "name": "stdout",
     "output_type": "stream",
     "text": [
      "Не отклоняем нулевую гипотезу\n"
     ]
    }
   ],
   "source": [
    "stat, p = stats.ttest_ind(low_salary,high_salary)\n",
    "if p<0.05:\n",
    "  print(\"Отклоняем нулевую гипотезу\")\n",
    "else:\n",
    "  print(\"Не отклоняем нулевую гипотезу\")"
   ]
  },
  {
   "cell_type": "markdown",
   "id": "14e0b31a-8878-49cb-9118-8147e2e84964",
   "metadata": {},
   "source": [
    "<span style=\"color:blue\">Вывод: гипотеза о том, что сотрудники с высоким окладом проводят на работе больше времени, чем сотрудники с низким окладом не подтвердилась</span>"
   ]
  },
  {
   "cell_type": "markdown",
   "id": "5a4115ad-1378-41bb-ad72-24d660bc353e",
   "metadata": {},
   "source": [
    "# 8 Рассчитать следующие показатели среди уволившихся и неуволившихся сотрудников (по отдельности):"
   ]
  },
  {
   "cell_type": "markdown",
   "id": "679cdc61-8c47-49c2-b5f9-36fdfe601188",
   "metadata": {},
   "source": [
    "- Доля сотрудников с повышением за последние 5 лет  \n",
    "- Средняя степень удовлетворенности  \n",
    "- Среднее количество проектов  \n"
   ]
  },
  {
   "cell_type": "code",
   "execution_count": 21,
   "id": "93bca9de-483a-4e01-8ff0-0898ae4b0006",
   "metadata": {},
   "outputs": [],
   "source": [
    "fired = HR_data_1[HR_data_1['left'] == 1]\n",
    "working = HR_data_1[HR_data_1['left'] == 0]"
   ]
  },
  {
   "cell_type": "code",
   "execution_count": 62,
   "id": "db2daad5-a702-42aa-9cb5-5f23deef2318",
   "metadata": {},
   "outputs": [
    {
     "data": {
      "text/html": [
       "<div>\n",
       "<style scoped>\n",
       "    .dataframe tbody tr th:only-of-type {\n",
       "        vertical-align: middle;\n",
       "    }\n",
       "\n",
       "    .dataframe tbody tr th {\n",
       "        vertical-align: top;\n",
       "    }\n",
       "\n",
       "    .dataframe thead th {\n",
       "        text-align: right;\n",
       "    }\n",
       "</style>\n",
       "<table border=\"1\" class=\"dataframe\">\n",
       "  <thead>\n",
       "    <tr style=\"text-align: right;\">\n",
       "      <th></th>\n",
       "      <th>Уволенные</th>\n",
       "      <th>Работают</th>\n",
       "    </tr>\n",
       "    <tr>\n",
       "      <th>Показатель</th>\n",
       "      <th></th>\n",
       "      <th></th>\n",
       "    </tr>\n",
       "  </thead>\n",
       "  <tbody>\n",
       "    <tr>\n",
       "      <th>Доля сотрудников с повышением за последние 5 лет</th>\n",
       "      <td>0.004</td>\n",
       "      <td>0.019</td>\n",
       "    </tr>\n",
       "    <tr>\n",
       "      <th>Средняя степень удовлетворенности</th>\n",
       "      <td>0.440</td>\n",
       "      <td>0.667</td>\n",
       "    </tr>\n",
       "    <tr>\n",
       "      <th>Среднее количество проектов</th>\n",
       "      <td>3.883</td>\n",
       "      <td>3.787</td>\n",
       "    </tr>\n",
       "  </tbody>\n",
       "</table>\n",
       "</div>"
      ],
      "text/plain": [
       "                                                  Уволенные  Работают\n",
       "Показатель                                                           \n",
       "Доля сотрудников с повышением за последние 5 лет      0.004     0.019\n",
       "Средняя степень удовлетворенности                     0.440     0.667\n",
       "Среднее количество проектов                           3.883     3.787"
      ]
     },
     "execution_count": 62,
     "metadata": {},
     "output_type": "execute_result"
    }
   ],
   "source": [
    "ind = pd.DataFrame({\n",
    " 'Показатель':  ['Доля сотрудников с повышением за последние 5 лет', 'Средняя степень удовлетворенности','Среднее количество проектов']})\n",
    "ind=ind.set_index('Показатель')\n",
    "ind.at['Доля сотрудников с повышением за последние 5 лет','Уволенные']=round(len(fired[fired['promotion_last_5years']==1].index)/len(fired),3)\n",
    "ind.at['Доля сотрудников с повышением за последние 5 лет','Работают']=round(len(working[working['promotion_last_5years']==1].index)/len(working),3)\n",
    "ind.at['Среднее количество проектов','Уволенные']=fired.number_project.mean().round(3)\n",
    "ind.at['Среднее количество проектов','Работают']=working.number_project.mean().round(3)\n",
    "ind.at['Средняя степень удовлетворенности','Уволенные']=fired.satisfaction_level.mean().round(3)\n",
    "ind.at['Средняя степень удовлетворенности','Работают']=working.satisfaction_level.mean().round(3)\n",
    "ind"
   ]
  },
  {
   "cell_type": "markdown",
   "id": "8bfd3d1e-1d03-4ed3-baf5-34ef224af802",
   "metadata": {},
   "source": [
    "<span style=\"color:blue\">Вывод: уволенные сотрудники имели в среднем более высокую нагрузку и меньший % повышений, что могло привести к снижению удовлетворенности работой</span>"
   ]
  },
  {
   "cell_type": "markdown",
   "id": "4e6117ac-2b11-42dc-b10e-5136abb8e88c",
   "metadata": {},
   "source": [
    "# 9. Разделить данные на тестовую и обучающую выборки.Построить модель LDA, предсказывающую уволился ли сотрудник на основе имеющихся факторов (кроме department и salary).Оценить качество модели на тестовой выборки\n"
   ]
  },
  {
   "cell_type": "code",
   "execution_count": 41,
   "id": "81033bc2-8661-4fc9-95ad-8d8796f847cc",
   "metadata": {},
   "outputs": [],
   "source": [
    "from sklearn.model_selection import train_test_split"
   ]
  },
  {
   "cell_type": "code",
   "execution_count": 61,
   "id": "97f71b57-5e8d-4b29-bbcf-51b79cf7ee75",
   "metadata": {},
   "outputs": [],
   "source": [
    "x = HR_data_1[['satisfaction_level','last_evaluation','number_project',\n",
    "               'average_montly_hours','time_spend_company','Work_accident','promotion_last_5years']]\n",
    "y=HR_data_1['left']\n"
   ]
  },
  {
   "cell_type": "code",
   "execution_count": 62,
   "id": "59b561a2-eb9c-4fbd-8c6e-c747e5492ea9",
   "metadata": {},
   "outputs": [],
   "source": [
    "x_train, x_test, y_train, y_test = train_test_split(x, y, random_state=42)"
   ]
  },
  {
   "cell_type": "code",
   "execution_count": 63,
   "id": "467e3d22-03c9-4b16-b8fc-b32209672a9d",
   "metadata": {},
   "outputs": [],
   "source": [
    "from sklearn.discriminant_analysis import LinearDiscriminantAnalysis"
   ]
  },
  {
   "cell_type": "code",
   "execution_count": 64,
   "id": "899aef83-bf80-4747-bf81-10f870d4f5d0",
   "metadata": {},
   "outputs": [],
   "source": [
    "lda = LinearDiscriminantAnalysis()"
   ]
  },
  {
   "cell_type": "code",
   "execution_count": 65,
   "id": "26110cd0-4211-453a-a1f9-478de5a953bf",
   "metadata": {},
   "outputs": [
    {
     "data": {
      "text/html": [
       "<style>#sk-container-id-4 {color: black;}#sk-container-id-4 pre{padding: 0;}#sk-container-id-4 div.sk-toggleable {background-color: white;}#sk-container-id-4 label.sk-toggleable__label {cursor: pointer;display: block;width: 100%;margin-bottom: 0;padding: 0.3em;box-sizing: border-box;text-align: center;}#sk-container-id-4 label.sk-toggleable__label-arrow:before {content: \"▸\";float: left;margin-right: 0.25em;color: #696969;}#sk-container-id-4 label.sk-toggleable__label-arrow:hover:before {color: black;}#sk-container-id-4 div.sk-estimator:hover label.sk-toggleable__label-arrow:before {color: black;}#sk-container-id-4 div.sk-toggleable__content {max-height: 0;max-width: 0;overflow: hidden;text-align: left;background-color: #f0f8ff;}#sk-container-id-4 div.sk-toggleable__content pre {margin: 0.2em;color: black;border-radius: 0.25em;background-color: #f0f8ff;}#sk-container-id-4 input.sk-toggleable__control:checked~div.sk-toggleable__content {max-height: 200px;max-width: 100%;overflow: auto;}#sk-container-id-4 input.sk-toggleable__control:checked~label.sk-toggleable__label-arrow:before {content: \"▾\";}#sk-container-id-4 div.sk-estimator input.sk-toggleable__control:checked~label.sk-toggleable__label {background-color: #d4ebff;}#sk-container-id-4 div.sk-label input.sk-toggleable__control:checked~label.sk-toggleable__label {background-color: #d4ebff;}#sk-container-id-4 input.sk-hidden--visually {border: 0;clip: rect(1px 1px 1px 1px);clip: rect(1px, 1px, 1px, 1px);height: 1px;margin: -1px;overflow: hidden;padding: 0;position: absolute;width: 1px;}#sk-container-id-4 div.sk-estimator {font-family: monospace;background-color: #f0f8ff;border: 1px dotted black;border-radius: 0.25em;box-sizing: border-box;margin-bottom: 0.5em;}#sk-container-id-4 div.sk-estimator:hover {background-color: #d4ebff;}#sk-container-id-4 div.sk-parallel-item::after {content: \"\";width: 100%;border-bottom: 1px solid gray;flex-grow: 1;}#sk-container-id-4 div.sk-label:hover label.sk-toggleable__label {background-color: #d4ebff;}#sk-container-id-4 div.sk-serial::before {content: \"\";position: absolute;border-left: 1px solid gray;box-sizing: border-box;top: 0;bottom: 0;left: 50%;z-index: 0;}#sk-container-id-4 div.sk-serial {display: flex;flex-direction: column;align-items: center;background-color: white;padding-right: 0.2em;padding-left: 0.2em;position: relative;}#sk-container-id-4 div.sk-item {position: relative;z-index: 1;}#sk-container-id-4 div.sk-parallel {display: flex;align-items: stretch;justify-content: center;background-color: white;position: relative;}#sk-container-id-4 div.sk-item::before, #sk-container-id-4 div.sk-parallel-item::before {content: \"\";position: absolute;border-left: 1px solid gray;box-sizing: border-box;top: 0;bottom: 0;left: 50%;z-index: -1;}#sk-container-id-4 div.sk-parallel-item {display: flex;flex-direction: column;z-index: 1;position: relative;background-color: white;}#sk-container-id-4 div.sk-parallel-item:first-child::after {align-self: flex-end;width: 50%;}#sk-container-id-4 div.sk-parallel-item:last-child::after {align-self: flex-start;width: 50%;}#sk-container-id-4 div.sk-parallel-item:only-child::after {width: 0;}#sk-container-id-4 div.sk-dashed-wrapped {border: 1px dashed gray;margin: 0 0.4em 0.5em 0.4em;box-sizing: border-box;padding-bottom: 0.4em;background-color: white;}#sk-container-id-4 div.sk-label label {font-family: monospace;font-weight: bold;display: inline-block;line-height: 1.2em;}#sk-container-id-4 div.sk-label-container {text-align: center;}#sk-container-id-4 div.sk-container {/* jupyter's `normalize.less` sets `[hidden] { display: none; }` but bootstrap.min.css set `[hidden] { display: none !important; }` so we also need the `!important` here to be able to override the default hidden behavior on the sphinx rendered scikit-learn.org. See: https://github.com/scikit-learn/scikit-learn/issues/21755 */display: inline-block !important;position: relative;}#sk-container-id-4 div.sk-text-repr-fallback {display: none;}</style><div id=\"sk-container-id-4\" class=\"sk-top-container\"><div class=\"sk-text-repr-fallback\"><pre>LinearDiscriminantAnalysis()</pre><b>In a Jupyter environment, please rerun this cell to show the HTML representation or trust the notebook. <br />On GitHub, the HTML representation is unable to render, please try loading this page with nbviewer.org.</b></div><div class=\"sk-container\" hidden><div class=\"sk-item\"><div class=\"sk-estimator sk-toggleable\"><input class=\"sk-toggleable__control sk-hidden--visually\" id=\"sk-estimator-id-4\" type=\"checkbox\" checked><label for=\"sk-estimator-id-4\" class=\"sk-toggleable__label sk-toggleable__label-arrow\">LinearDiscriminantAnalysis</label><div class=\"sk-toggleable__content\"><pre>LinearDiscriminantAnalysis()</pre></div></div></div></div></div>"
      ],
      "text/plain": [
       "LinearDiscriminantAnalysis()"
      ]
     },
     "execution_count": 65,
     "metadata": {},
     "output_type": "execute_result"
    }
   ],
   "source": [
    "lda.fit(x_train, y_train)"
   ]
  },
  {
   "cell_type": "code",
   "execution_count": 66,
   "id": "1bd69868-0515-4ae7-99c2-6ed2737d4ea3",
   "metadata": {},
   "outputs": [
    {
     "data": {
      "text/plain": [
       "array([0, 1, 0, ..., 0, 0, 0], dtype=int64)"
      ]
     },
     "execution_count": 66,
     "metadata": {},
     "output_type": "execute_result"
    }
   ],
   "source": [
    "y_pred = lda.predict(x_test)\n",
    "y_pred"
   ]
  },
  {
   "cell_type": "code",
   "execution_count": 67,
   "id": "cef0f8f5-50d1-4ddc-ac0f-04544d336038",
   "metadata": {},
   "outputs": [
    {
     "data": {
      "text/plain": [
       "0.8342228152101401"
      ]
     },
     "execution_count": 67,
     "metadata": {},
     "output_type": "execute_result"
    }
   ],
   "source": [
    "lda.score(x_test, y_test)"
   ]
  },
  {
   "cell_type": "code",
   "execution_count": 68,
   "id": "85f0b413-e246-4cb2-85f0-796ebb079487",
   "metadata": {},
   "outputs": [],
   "source": [
    "from sklearn.metrics import accuracy_score"
   ]
  },
  {
   "cell_type": "code",
   "execution_count": 86,
   "id": "658cb23e-b843-43f2-ac30-3eb4021aa0e1",
   "metadata": {},
   "outputs": [
    {
     "data": {
      "text/plain": [
       "0.8342228152101401"
      ]
     },
     "execution_count": 86,
     "metadata": {},
     "output_type": "execute_result"
    }
   ],
   "source": [
    "accuracy_score(y_test, lda.predict(x_test))"
   ]
  },
  {
   "cell_type": "markdown",
   "id": "e7f79949-0a46-44d2-8301-9c5b643520cb",
   "metadata": {},
   "source": [
    "<span style=\"color:blue\">Построенная LDA модель адекватна и имеет достаточно высокую точность (83,4%)</span>"
   ]
  }
 ],
 "metadata": {
  "kernelspec": {
   "display_name": "Python 3 (ipykernel)",
   "language": "python",
   "name": "python3"
  },
  "language_info": {
   "codemirror_mode": {
    "name": "ipython",
    "version": 3
   },
   "file_extension": ".py",
   "mimetype": "text/x-python",
   "name": "python",
   "nbconvert_exporter": "python",
   "pygments_lexer": "ipython3",
   "version": "3.12.0"
  }
 },
 "nbformat": 4,
 "nbformat_minor": 5
}
